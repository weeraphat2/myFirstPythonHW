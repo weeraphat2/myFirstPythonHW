{
 "cells": [
  {
   "cell_type": "markdown",
   "metadata": {},
   "source": [
    "# DataStructure 10 Exercise"
   ]
  },
  {
   "cell_type": "markdown",
   "metadata": {},
   "source": [
    "## Weeraphat Thongnoi 6310301022"
   ]
  },
  {
   "cell_type": "markdown",
   "metadata": {},
   "source": [
    "## Question 1"
   ]
  },
  {
   "cell_type": "code",
   "execution_count": 1,
   "metadata": {},
   "outputs": [
    {
     "name": "stdout",
     "output_type": "stream",
     "text": [
      "Element at odd-index positions from list one\n",
      "[6, 12, 18]\n",
      "Element at even-index positions from list two\n",
      "[4, 12, 20, 28]\n",
      "Printing Final third list\n",
      "[6, 12, 18, 4, 12, 20, 28]\n"
     ]
    }
   ],
   "source": [
    "listOne = [3, 6, 9, 12, 15, 18, 21]\n",
    "listTwo = [4, 8, 12, 16, 20, 24, 28]\n",
    "listThree = list()\n",
    "\n",
    "oddElements = listOne[1::2]\n",
    "print(\"Element at odd-index positions from list one\")\n",
    "print(oddElements)\n",
    "\n",
    "EvenElement = listTwo[0::2]\n",
    "print(\"Element at even-index positions from list two\")\n",
    "print(EvenElement)\n",
    "\n",
    "print(\"Printing Final third list\")\n",
    "listThree.extend(oddElements)\n",
    "listThree.extend(EvenElement)\n",
    "print(listThree)"
   ]
  },
  {
   "cell_type": "markdown",
   "metadata": {},
   "source": [
    "## Question 2"
   ]
  },
  {
   "cell_type": "code",
   "execution_count": 2,
   "metadata": {},
   "outputs": [
    {
     "name": "stdout",
     "output_type": "stream",
     "text": [
      "Original list  [34, 54, 67, 89, 11, 43, 94]\n",
      "List After removing element at index 4  [34, 54, 67, 89, 43, 94]\n",
      "List after Adding element at index 2  [34, 54, 11, 67, 89, 43, 94]\n",
      "List after Adding element at last  [34, 54, 11, 67, 89, 43, 94, 11]\n"
     ]
    }
   ],
   "source": [
    "sampleList = [34, 54, 67, 89, 11, 43, 94]\n",
    "\n",
    "print(\"Original list \", sampleList)\n",
    "element = sampleList.pop(4)\n",
    "print(\"List After removing element at index 4 \", sampleList)\n",
    "\n",
    "sampleList.insert(2, element)\n",
    "print(\"List after Adding element at index 2 \", sampleList)\n",
    "\n",
    "sampleList.append(element)\n",
    "print(\"List after Adding element at last \", sampleList)"
   ]
  },
  {
   "cell_type": "markdown",
   "metadata": {},
   "source": [
    "## Question 3"
   ]
  },
  {
   "cell_type": "code",
   "execution_count": 3,
   "metadata": {},
   "outputs": [
    {
     "name": "stdout",
     "output_type": "stream",
     "text": [
      "Original list  [11, 45, 8, 23, 14, 12, 78, 45, 89]\n",
      "Chunk  1 [11, 45, 8]\n",
      "After reversing it  [8, 45, 11]\n",
      "Chunk  2 [23, 14, 12]\n",
      "After reversing it  [12, 14, 23]\n",
      "Chunk  3 [78, 45, 89]\n",
      "After reversing it  [89, 45, 78]\n"
     ]
    }
   ],
   "source": [
    "sampleList = [11, 45, 8, 23, 14, 12, 78, 45, 89]\n",
    "print(\"Original list \", sampleList)\n",
    "\n",
    "length = len(sampleList)\n",
    "chunkSize  = int(length/3)\n",
    "start = 0\n",
    "end = chunkSize\n",
    "for i in range(1, 4, 1):\n",
    "  indexes = slice(start, end, 1)\n",
    "  listChunk = sampleList[indexes]\n",
    "  print(\"Chunk \", i , listChunk)\n",
    "  print(\"After reversing it \", list(reversed(listChunk)))\n",
    "  start = end\n",
    "  if(i != 2):\n",
    "    end +=chunkSize\n",
    "  else:\n",
    "    end += length - chunkSize"
   ]
  },
  {
   "cell_type": "markdown",
   "metadata": {},
   "source": [
    "## Question 4"
   ]
  },
  {
   "cell_type": "code",
   "execution_count": 1,
   "metadata": {},
   "outputs": [
    {
     "name": "stdout",
     "output_type": "stream",
     "text": [
      "Original list  [11, 45, 8, 11, 23, 45, 23, 45, 89]\n",
      "Printing count of each item   {11: 2, 45: 3, 8: 1, 23: 2, 89: 1}\n"
     ]
    }
   ],
   "source": [
    "sampleList = [11, 45, 8, 11, 23, 45, 23, 45, 89]\n",
    "print(\"Original list \", sampleList)\n",
    "\n",
    "countDict = dict()\n",
    "for item in sampleList:\n",
    "    if(item in countDict):\n",
    "        countDict[item] += 1\n",
    "    else:\n",
    "        countDict[item] = 1\n",
    "print(\"Printing count of each item  \",countDict)"
   ]
  },
  {
   "cell_type": "markdown",
   "metadata": {},
   "source": [
    "## Question 5"
   ]
  },
  {
   "cell_type": "code",
   "execution_count": 2,
   "metadata": {},
   "outputs": [
    {
     "name": "stdout",
     "output_type": "stream",
     "text": [
      "First List [2, 3, 4, 5, 6, 7, 8]\n",
      "second [4, 9, 16, 25, 36, 49, 64]\n",
      "Result is {(6, 36), (8, 64), (4, 16), (5, 25), (3, 9), (7, 49), (2, 4)}\n"
     ]
    }
   ],
   "source": [
    "first = [2,3,4,5,6,7,8]\n",
    "second = [4,9,16,25,36,49,64]\n",
    "result = set()\n",
    "for i in first :\n",
    "    if (i*i) in second :\n",
    "        result.add(tuple([i,second[second.index(i*i)]]))\n",
    "print(\"First List\",first)\n",
    "print(\"second\",second)\n",
    "print(\"Result is\",result)"
   ]
  },
  {
   "cell_type": "markdown",
   "metadata": {},
   "source": [
    "## Question 6"
   ]
  },
  {
   "cell_type": "code",
   "execution_count": 3,
   "metadata": {},
   "outputs": [
    {
     "name": "stdout",
     "output_type": "stream",
     "text": [
      "First Set : 65 42 78 83 23 57 29 \n",
      "Second Set : 67 73 43 48 83 57 29 \n",
      "Intersection is  : 83 57 29 \n",
      "First Set after removing common element : 65 42 78 23 "
     ]
    }
   ],
   "source": [
    "firstSet = {65,42,78,83,23,57,29}\n",
    "Second = {67,73,43,48,83,57,29}\n",
    "tmp = set()\n",
    "print(\"First Set : \",end=\"\")\n",
    "for i in firstSet :\n",
    "    print(i,end=\" \")\n",
    "\n",
    "print(\"\\nSecond Set : \",end=\"\")\n",
    "for i in Second :\n",
    "    print(i,end=\" \")\n",
    "    \n",
    "print(\"\\nIntersection is  : \",end=\"\")\n",
    "for i in  firstSet :\n",
    "    if i in Second :\n",
    "        print(i,end=\" \")\n",
    "    else:\n",
    "        tmp.add(i)\n",
    "\n",
    "print(\"\\nFirst Set after removing common element : \",end=\"\")\n",
    "for i in tmp :\n",
    "    print(i,end=\" \")"
   ]
  },
  {
   "cell_type": "markdown",
   "metadata": {},
   "source": [
    "## Question 7"
   ]
  },
  {
   "cell_type": "code",
   "execution_count": 7,
   "metadata": {},
   "outputs": [
    {
     "name": "stdout",
     "output_type": "stream",
     "text": [
      "\n",
      "First Set  57 83 29 \n",
      "Second Set  67 73 43 48 83 57 29 \n",
      "\n",
      "First set is subset of second set - True\n",
      "second set is subset of first set - False\n",
      "\n",
      "\n",
      "First set is subset of second set - False\n",
      "second set is subset of first set - True\n",
      "\n",
      "\n",
      "First Set  set()\n",
      "Second Set  67 73 43 48 83 57 29 "
     ]
    }
   ],
   "source": [
    "frist = {57,83,29}\n",
    "seccond = {67,73,43,48,83,57,29}\n",
    "\n",
    "print(\"\\nFirst Set \",end=\" \")\n",
    "for i in frist :\n",
    "    print(i,end=\" \")\n",
    "    \n",
    "print(\"\\nSecond Set \",end=\" \")\n",
    "for i in seccond :\n",
    "    print(i,end=\" \")\n",
    "    \n",
    "print(\"\\n\\nFirst set is subset of second set -\",frist.issubset(seccond))\n",
    "print(\"second set is subset of first set -\",seccond.issubset(frist))\n",
    "print(\"\\n\\nFirst set is subset of second set -\",frist.issuperset(seccond))\n",
    "print(\"second set is subset of first set -\",seccond.issuperset(frist))\n",
    "\n",
    "print(\"\\n\\nFirst Set \",set())\n",
    "print(\"Second Set \",end=\" \")\n",
    "for i in seccond :\n",
    "    print(i,end=\" \")"
   ]
  },
  {
   "cell_type": "markdown",
   "metadata": {},
   "source": [
    "## Question 8"
   ]
  },
  {
   "cell_type": "code",
   "execution_count": 8,
   "metadata": {},
   "outputs": [
    {
     "name": "stdout",
     "output_type": "stream",
     "text": [
      "Given: \n",
      "rollNumber =  [47, 64, 69, 39, 76, 83, 95, 97]\n",
      "sampleDict =  {'jhon': 47, 'Emma': 69, 'Kelly': 76, 'Kason': 97}\n",
      "\n",
      "Expected Outcome:\n",
      "after removing unwanted element from list   [47, 69, 76, 97]\n"
     ]
    }
   ],
   "source": [
    "rollNumber = [47,64,69,39,76,83,95,97]\n",
    "sampleDict = {'jhon':47,'Emma':69,'Kelly':76,'Kason':97}\n",
    "print(\"Given: \")\n",
    "print('rollNumber = ',rollNumber)\n",
    "print('sampleDict = ',sampleDict)\n",
    "print(\"\\nExpected Outcome:\")\n",
    "tmp = sampleDict.values()\n",
    "tmp2 = [47,64,69,39,76,83,95,97]\n",
    "for i in range(len(tmp2)) :\n",
    "    if tmp2[i] not in tmp :\n",
    "        rollNumber.remove(tmp2[i])\n",
    "print('after removing unwanted element from list  ',rollNumber)"
   ]
  },
  {
   "cell_type": "markdown",
   "metadata": {},
   "source": [
    "## Question 9"
   ]
  },
  {
   "cell_type": "code",
   "execution_count": 9,
   "metadata": {},
   "outputs": [
    {
     "data": {
      "text/plain": [
       "[47, 52, 44, 53, 54]"
      ]
     },
     "execution_count": 9,
     "metadata": {},
     "output_type": "execute_result"
    }
   ],
   "source": [
    "speed = {'jan':47,'feb':52,'march':47,'April':44,'May':52,'June':53,'july':54,'Aug':44,'Sept':54}\n",
    "values_new = speed.values()\n",
    "tmp = []\n",
    "for i in values_new :\n",
    "    if i not in tmp :\n",
    "        tmp.append(i)\n",
    "tmp"
   ]
  },
  {
   "cell_type": "markdown",
   "metadata": {},
   "source": [
    "## Question 10"
   ]
  },
  {
   "cell_type": "code",
   "execution_count": 11,
   "metadata": {},
   "outputs": [
    {
     "name": "stdout",
     "output_type": "stream",
     "text": [
      "For Instance :\n",
      "Instance List =  [87, 45, 41, 65, 94, 41, 99, 94]\n",
      "Expected Outcome :\n",
      "unique items =  [87, 45, 41, 65, 94, 99]\n",
      "tuple =  (87, 45, 41, 65, 94, 99)\n",
      "min :  41 max :  99\n"
     ]
    }
   ],
   "source": [
    "Ex = [87,45,41,65,94,41,99,94]\n",
    "print(\"For Instance :\")\n",
    "print(\"Instance List = \",Ex)\n",
    "tmp = []\n",
    "for i in Ex :\n",
    "    if i not in tmp :\n",
    "        tmp.append(i)\n",
    "Ex = tmp\n",
    "print(\"Expected Outcome :\")\n",
    "print(\"unique items = \",Ex)\n",
    "print(\"tuple = \",tuple(Ex))\n",
    "print(\"min : \",min(Ex),'max : ',max(Ex))"
   ]
  }
 ],
 "metadata": {
  "kernelspec": {
   "display_name": "Python 3",
   "language": "python",
   "name": "python3"
  },
  "language_info": {
   "codemirror_mode": {
    "name": "ipython",
    "version": 3
   },
   "file_extension": ".py",
   "mimetype": "text/x-python",
   "name": "python",
   "nbconvert_exporter": "python",
   "pygments_lexer": "ipython3",
   "version": "3.7.0"
  }
 },
 "nbformat": 4,
 "nbformat_minor": 2
}
